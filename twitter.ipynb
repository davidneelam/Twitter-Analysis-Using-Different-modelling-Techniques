{
 "cells": [
  {
   "cell_type": "code",
   "execution_count": 9,
   "metadata": {},
   "outputs": [
    {
     "name": "stdout",
     "output_type": "stream",
     "text": [
      "Requirement already satisfied: twython in c:\\users\\magik\\anaconda3\\lib\\site-packages (3.7.0)\n",
      "Requirement already satisfied: requests-oauthlib>=0.4.0 in c:\\users\\magik\\anaconda3\\lib\\site-packages (from twython) (1.2.0)\n",
      "Requirement already satisfied: requests>=2.1.0 in c:\\users\\magik\\anaconda3\\lib\\site-packages (from twython) (2.22.0)\n",
      "Requirement already satisfied: oauthlib>=3.0.0 in c:\\users\\magik\\anaconda3\\lib\\site-packages (from requests-oauthlib>=0.4.0->twython) (3.0.1)\n",
      "Requirement already satisfied: chardet<3.1.0,>=3.0.2 in c:\\users\\magik\\anaconda3\\lib\\site-packages (from requests>=2.1.0->twython) (3.0.4)\n",
      "Requirement already satisfied: idna<2.9,>=2.5 in c:\\users\\magik\\anaconda3\\lib\\site-packages (from requests>=2.1.0->twython) (2.8)\n",
      "Requirement already satisfied: certifi>=2017.4.17 in c:\\users\\magik\\anaconda3\\lib\\site-packages (from requests>=2.1.0->twython) (2019.9.11)\n",
      "Requirement already satisfied: urllib3!=1.25.0,!=1.25.1,<1.26,>=1.21.1 in c:\\users\\magik\\anaconda3\\lib\\site-packages (from requests>=2.1.0->twython) (1.24.2)\n"
     ]
    }
   ],
   "source": [
    "#%%\n",
    "!pip install twython\n",
    "#%%\n",
    "from twython import Twython\n",
    "import numpy as np \n",
    "import os\n",
    "\n",
    "# %%\n",
    "TWITTER_APP_KEY = 'BGrZTQLvynORzg5x7bSiYPqPQ'\n",
    "TWITTER_APP_SECRET = '0lUvEa1cPtSk2Rzigv9qCqAb04a1Yupiu4w1DkDqYmqzwcDgA2'\n",
    "TWITTER_OAUTH_TOKEN ='196487761-jniBjUXxFHfzeNAUNOlIuzQcPZ0lUC0SstzhY3R7'\n",
    "TWITTER_OAUTH_TOKEN_SECRECT = 'Zgn2C6uZbMgtBGWgXMcIUbYMUIkhTzxixpVUdIP8C9QfC'\n",
    "\n",
    "#APP_KEY = os.getenv('TWITTER_APP_KEY')\n",
    "#APP_SECRET = os.getenv('TWITTER_APP_SECRET')\n",
    "#OAUTH_TOKEN = os.getenv('TWITTER_OAUTH_TOKEN')\n",
    "#OAUTH_TOKEN_SECRECT = os.getenv('TWITTER_OAUTH_TOKEN_SECRECT')\n",
    "\n",
    "twitter  = Twython(TWITTER_APP_KEY,TWITTER_APP_SECRET,TWITTER_OAUTH_TOKEN,TWITTER_OAUTH_TOKEN_SECRECT)\n",
    "\n",
    "def GetUserTimeline(userName):\n",
    "\n",
    "    tweets = twitter.get_user_timeline(screen_name=userName,tweet_mode='extended',count=200)\n",
    "    X = [ x['full_text'].replace('\\n',' ') for x in tweets]\n",
    "    maxId = tweets[199]['id'] - 1    \n",
    "    for i in range(16):\n",
    "        tweets = twitter.get_user_timeline(screen_name=userName,tweet_mode='extended',count=200,max_id = str(maxId))\n",
    "        X.extend([x['full_text'].replace('\\n',' ') for x in tweets])\n",
    "        if len(tweets) > 0:\n",
    "            maxId = tweets[len(tweets)-1]['id'] - 1\n",
    "    return X\n",
    "\n",
    "\n",
    "\n",
    "# %%\n",
    "\n",
    "\n",
    "# %%\n",
    "def save_tweets(filename, tweets):\n",
    "    with open(filename, \"wb\") as file:\n",
    "        file.write(\"\\n\".join(tweets).encode('utf-8'))\n",
    "\n",
    "\n",
    "# %%\n",
    "warrior_tweets = GetUserTimeline('instagram')\n",
    "save_tweets('Instapics.txt',warrior_tweets)\n",
    "\n",
    "# %%"
   ]
  },
  {
   "cell_type": "code",
   "execution_count": null,
   "metadata": {},
   "outputs": [],
   "source": []
  }
 ],
 "metadata": {
  "kernelspec": {
   "display_name": "Python 3",
   "language": "python",
   "name": "python3"
  },
  "language_info": {
   "codemirror_mode": {
    "name": "ipython",
    "version": 3
   },
   "file_extension": ".py",
   "mimetype": "text/x-python",
   "name": "python",
   "nbconvert_exporter": "python",
   "pygments_lexer": "ipython3",
   "version": "3.7.4"
  }
 },
 "nbformat": 4,
 "nbformat_minor": 2
}
