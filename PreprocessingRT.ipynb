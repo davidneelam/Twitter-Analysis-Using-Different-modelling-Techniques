{
 "cells": [
  {
   "cell_type": "code",
   "execution_count": 9,
   "metadata": {},
   "outputs": [],
   "source": [
    "with open(\"dems.txt\", \"r\",encoding=\"utf-8\") as f:\n",
    "    lines = f.readlines() \n",
    "with open(\"dems.txt\", \"w\",encoding=\"utf-8\") as f: \n",
    "    for line in lines: \n",
    "        retweet=line.strip(\"\\n\").startswith('RT') \n",
    "        if retweet == False: \n",
    "            f.write(line) \n",
    "            \n",
    "with open(\"gop.txt\", \"r\",encoding=\"utf-8\") as f:\n",
    "    lines = f.readlines() \n",
    "with open(\"gop.txt\", \"w\",encoding=\"utf-8\") as f: \n",
    "    for line in lines: \n",
    "        retweet=line.strip(\"\\n\").startswith('RT') \n",
    "        if retweet == False: \n",
    "            f.write(line)"
   ]
  },
  {
   "cell_type": "code",
   "execution_count": null,
   "metadata": {},
   "outputs": [],
   "source": []
  }
 ],
 "metadata": {
  "kernelspec": {
   "display_name": "Python 3",
   "language": "python",
   "name": "python3"
  },
  "language_info": {
   "codemirror_mode": {
    "name": "ipython",
    "version": 3
   },
   "file_extension": ".py",
   "mimetype": "text/x-python",
   "name": "python",
   "nbconvert_exporter": "python",
   "pygments_lexer": "ipython3",
   "version": "3.7.4"
  }
 },
 "nbformat": 4,
 "nbformat_minor": 2
}
